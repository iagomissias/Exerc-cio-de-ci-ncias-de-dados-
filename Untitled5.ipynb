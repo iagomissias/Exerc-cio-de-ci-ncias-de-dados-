{
  "nbformat": 4,
  "nbformat_minor": 0,
  "metadata": {
    "colab": {
      "provenance": [],
      "authorship_tag": "ABX9TyM2v/A+np/+gbC7CW67yzws",
      "include_colab_link": true
    },
    "kernelspec": {
      "name": "python3",
      "display_name": "Python 3"
    },
    "language_info": {
      "name": "python"
    }
  },
  "cells": [
    {
      "cell_type": "markdown",
      "metadata": {
        "id": "view-in-github",
        "colab_type": "text"
      },
      "source": [
        "<a href=\"https://colab.research.google.com/github/iagomissias/Exerc-cio-de-ci-ncias-de-dados-/blob/main/Untitled5.ipynb\" target=\"_parent\"><img src=\"https://colab.research.google.com/assets/colab-badge.svg\" alt=\"Open In Colab\"/></a>"
      ]
    },
    {
      "cell_type": "markdown",
      "source": [
        "Machine Learning e Data SWcience com Python de A à Z - IA Expert Academy"
      ],
      "metadata": {
        "id": "I6BQSrC9La__"
      }
    },
    {
      "cell_type": "code",
      "execution_count": null,
      "metadata": {
        "id": "XZPAVAtXLFXX"
      },
      "outputs": [],
      "source": []
    },
    {
      "cell_type": "markdown",
      "source": [
        "Importação das bibliotecas básicas\n",
        "\n",
        "\n",
        "\n"
      ],
      "metadata": {
        "id": "28mgE4iELZjJ"
      }
    },
    {
      "cell_type": "code",
      "source": [],
      "metadata": {
        "id": "b9O_JNriLvCw"
      },
      "execution_count": null,
      "outputs": []
    }
  ]
}